{
 "cells": [
  {
   "cell_type": "code",
   "execution_count": 1,
   "id": "3c9e33e1",
   "metadata": {},
   "outputs": [
    {
     "name": "stderr",
     "output_type": "stream",
     "text": [
      "C:\\Users\\Lenovo\\AppData\\Roaming\\Python\\Python311\\site-packages\\pandas\\core\\arrays\\masked.py:60: UserWarning: Pandas requires version '1.3.6' or newer of 'bottleneck' (version '1.3.5' currently installed).\n",
      "  from pandas.core import (\n",
      "[nltk_data] Downloading package stopwords to\n",
      "[nltk_data]     C:\\Users\\Lenovo\\AppData\\Roaming\\nltk_data...\n",
      "[nltk_data]   Package stopwords is already up-to-date!\n"
     ]
    }
   ],
   "source": [
    "import nltk\n",
    "nltk.download('stopwords')\n",
    "from pyresparser import ResumeParser\n",
    "import os\n",
    "from docx import Document"
   ]
  },
  {
   "cell_type": "code",
   "execution_count": 2,
   "id": "8f425b7c",
   "metadata": {},
   "outputs": [
    {
     "name": "stdout",
     "output_type": "stream",
     "text": [
      "2 Dr. sarim-CV.pdf\n"
     ]
    }
   ],
   "source": [
    "##file format should be in .txt , .docx or .pdf only\n",
    "filed=input()"
   ]
  },
  {
   "cell_type": "code",
   "execution_count": 3,
   "id": "10a9492b",
   "metadata": {},
   "outputs": [
    {
     "name": "stderr",
     "output_type": "stream",
     "text": [
      "C:\\Users\\Lenovo\\AppData\\Roaming\\Python\\Python311\\site-packages\\spacy\\util.py:275: UserWarning: [W031] Model 'en_training' (0.0.0) requires spaCy v2.1 and is incompatible with the current spaCy version (2.3.9). This may lead to unexpected results or runtime errors. To resolve this, download a newer compatible model or retrain your custom model with the current spaCy version. For more details and available updates, run: python -m spacy validate\n",
      "  warnings.warn(warn_msg)\n"
     ]
    },
    {
     "name": "stdout",
     "output_type": "stream",
     "text": [
      "['Segmentation', 'Strategy', 'Research', 'Construction', 'Email', 'Supervisor', 'Video', 'Sports', 'Health', 'Visual', 'Physics', 'Architecture', 'Hospital', 'Distribution', 'Transactions', 'Matrix', 'Circuits', 'Statistics', 'Biology', 'Teaching', 'Modeling', 'Machine learning', 'Erp', 'Analysis', 'C', 'Administration', 'Correspondence', 'Improvement', 'Communication', 'Computer science', 'Electrical', 'System', 'International', 'Content', 'Interactive', 'Mobile', 'Pattern', 'Process', 'Programming', 'Electronics', 'Engineering']\n"
     ]
    }
   ],
   "source": [
    "try:\n",
    "    doc = Document()\n",
    "    with open(filed, 'r') as file:\n",
    "        doc.add_paragraph(file.read())\n",
    "    doc.save(\"text.docx\")\n",
    "    data = ResumeParser('text.docx').get_extracted_data()\n",
    "    print(data['skills'])\n",
    "except:\n",
    "    data = ResumeParser(filed).get_extracted_data()\n",
    "    print(data['skills'])"
   ]
  },
  {
   "cell_type": "code",
   "execution_count": 4,
   "id": "f7fb210b",
   "metadata": {},
   "outputs": [
    {
     "data": {
      "text/plain": [
       "{'name': 'Dr. MUHAMMAD',\n",
       " 'email': 'msarim@fuuast.edu.pk',\n",
       " 'mobile_number': '352 1102',\n",
       " 'skills': ['Segmentation',\n",
       "  'Strategy',\n",
       "  'Research',\n",
       "  'Construction',\n",
       "  'Email',\n",
       "  'Supervisor',\n",
       "  'Video',\n",
       "  'Sports',\n",
       "  'Health',\n",
       "  'Visual',\n",
       "  'Physics',\n",
       "  'Architecture',\n",
       "  'Hospital',\n",
       "  'Distribution',\n",
       "  'Transactions',\n",
       "  'Matrix',\n",
       "  'Circuits',\n",
       "  'Statistics',\n",
       "  'Biology',\n",
       "  'Teaching',\n",
       "  'Modeling',\n",
       "  'Machine learning',\n",
       "  'Erp',\n",
       "  'Analysis',\n",
       "  'C',\n",
       "  'Administration',\n",
       "  'Correspondence',\n",
       "  'Improvement',\n",
       "  'Communication',\n",
       "  'Computer science',\n",
       "  'Electrical',\n",
       "  'System',\n",
       "  'International',\n",
       "  'Content',\n",
       "  'Interactive',\n",
       "  'Mobile',\n",
       "  'Pattern',\n",
       "  'Process',\n",
       "  'Programming',\n",
       "  'Electronics',\n",
       "  'Engineering'],\n",
       " 'college_name': None,\n",
       " 'degree': None,\n",
       " 'designation': ['HEC Approved Supervisor',\n",
       "  'Registrar (Additional Charge)',\n",
       "  'Assistant Professor',\n",
       "  'Head of Computer Science Department'],\n",
       " 'experience': ['Registrar (Additional Charge)',\n",
       "  'Federal Urdu University of Arts, Science and Technology',\n",
       "  'Karachi, Pakistan',\n",
       "  '2 years, 9 months',\n",
       "  'April 2016 – Sep 2017',\n",
       "  'Nov 2018 – Jan 2020',\n",
       "  'Dr. Sarim',\n",
       "  'p. 3',\n",
       "  'Head of Computer Science Department',\n",
       "  'Federal Urdu University of Arts, Science and Technology',\n",
       "  'Karachi, Pakistan',\n",
       "  '0 years, 7 months',\n",
       "  'April 2018 – Nov 2018',\n",
       "  'Director IT (Additional Charge)',\n",
       "  'Federal Urdu University of Arts, Science and Technology',\n",
       "  'Karachi, Pakistan',\n",
       "  '2 years, 0 months',\n",
       "  'Oct 2015 – Sep 2017',\n",
       "  'Incharge MS/PhD Program (Computer Science)',\n",
       "  'Federal Urdu University of Arts, Science and Technology',\n",
       "  'Karachi, Pakistan',\n",
       "  '2 years, 3 months',\n",
       "  'Sep 2016 – Nov 2018',\n",
       "  'RESEARCH & INDUSTRIAL LINKAGE',\n",
       "  'HEC Approved Supervisor'],\n",
       " 'company_names': None,\n",
       " 'no_of_pages': 8,\n",
       " 'total_experience': 7.25}"
      ]
     },
     "execution_count": 4,
     "metadata": {},
     "output_type": "execute_result"
    }
   ],
   "source": [
    "data"
   ]
  },
  {
   "cell_type": "code",
   "execution_count": 5,
   "id": "ffaf82db",
   "metadata": {},
   "outputs": [],
   "source": [
    "import pandas as pd"
   ]
  },
  {
   "cell_type": "code",
   "execution_count": 7,
   "id": "40cd373e",
   "metadata": {},
   "outputs": [
    {
     "data": {
      "text/html": [
       "<div>\n",
       "<style scoped>\n",
       "    .dataframe tbody tr th:only-of-type {\n",
       "        vertical-align: middle;\n",
       "    }\n",
       "\n",
       "    .dataframe tbody tr th {\n",
       "        vertical-align: top;\n",
       "    }\n",
       "\n",
       "    .dataframe thead th {\n",
       "        text-align: right;\n",
       "    }\n",
       "</style>\n",
       "<table border=\"1\" class=\"dataframe\">\n",
       "  <thead>\n",
       "    <tr style=\"text-align: right;\">\n",
       "      <th></th>\n",
       "      <th>0</th>\n",
       "    </tr>\n",
       "  </thead>\n",
       "  <tbody>\n",
       "    <tr>\n",
       "      <th>name</th>\n",
       "      <td>Dr. MUHAMMAD</td>\n",
       "    </tr>\n",
       "    <tr>\n",
       "      <th>email</th>\n",
       "      <td>msarim@fuuast.edu.pk</td>\n",
       "    </tr>\n",
       "    <tr>\n",
       "      <th>mobile_number</th>\n",
       "      <td>352 1102</td>\n",
       "    </tr>\n",
       "    <tr>\n",
       "      <th>skills</th>\n",
       "      <td>[Segmentation, Strategy, Research, Constructio...</td>\n",
       "    </tr>\n",
       "    <tr>\n",
       "      <th>college_name</th>\n",
       "      <td>None</td>\n",
       "    </tr>\n",
       "    <tr>\n",
       "      <th>degree</th>\n",
       "      <td>None</td>\n",
       "    </tr>\n",
       "    <tr>\n",
       "      <th>designation</th>\n",
       "      <td>[HEC Approved Supervisor, Registrar (Additiona...</td>\n",
       "    </tr>\n",
       "    <tr>\n",
       "      <th>experience</th>\n",
       "      <td>[Registrar (Additional Charge), Federal Urdu U...</td>\n",
       "    </tr>\n",
       "    <tr>\n",
       "      <th>company_names</th>\n",
       "      <td>None</td>\n",
       "    </tr>\n",
       "    <tr>\n",
       "      <th>no_of_pages</th>\n",
       "      <td>8</td>\n",
       "    </tr>\n",
       "    <tr>\n",
       "      <th>total_experience</th>\n",
       "      <td>7.25</td>\n",
       "    </tr>\n",
       "  </tbody>\n",
       "</table>\n",
       "</div>"
      ],
      "text/plain": [
       "                                                                  0\n",
       "name                                                   Dr. MUHAMMAD\n",
       "email                                          msarim@fuuast.edu.pk\n",
       "mobile_number                                              352 1102\n",
       "skills            [Segmentation, Strategy, Research, Constructio...\n",
       "college_name                                                   None\n",
       "degree                                                         None\n",
       "designation       [HEC Approved Supervisor, Registrar (Additiona...\n",
       "experience        [Registrar (Additional Charge), Federal Urdu U...\n",
       "company_names                                                  None\n",
       "no_of_pages                                                       8\n",
       "total_experience                                               7.25"
      ]
     },
     "execution_count": 7,
     "metadata": {},
     "output_type": "execute_result"
    }
   ],
   "source": [
    "data1=pd.DataFrame.from_dict(data, orient='index')\n",
    "data1"
   ]
  }
 ],
 "metadata": {
  "kernelspec": {
   "display_name": "Python 3 (ipykernel)",
   "language": "python",
   "name": "python3"
  },
  "language_info": {
   "codemirror_mode": {
    "name": "ipython",
    "version": 3
   },
   "file_extension": ".py",
   "mimetype": "text/x-python",
   "name": "python",
   "nbconvert_exporter": "python",
   "pygments_lexer": "ipython3",
   "version": "3.11.5"
  }
 },
 "nbformat": 4,
 "nbformat_minor": 5
}
